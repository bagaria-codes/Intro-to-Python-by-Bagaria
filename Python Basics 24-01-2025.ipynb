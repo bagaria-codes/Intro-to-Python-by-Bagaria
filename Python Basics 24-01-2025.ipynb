{
  "nbformat": 4,
  "nbformat_minor": 0,
  "metadata": {
    "colab": {
      "provenance": []
    },
    "kernelspec": {
      "name": "python3",
      "display_name": "Python 3"
    },
    "language_info": {
      "name": "python"
    }
  },
  "cells": [
    {
      "cell_type": "markdown",
      "source": [
        "Khushi Bagaria | E067 | BTech CSBS\n",
        "\n",
        "# Python Basics 1 - 24/01/2025"
      ],
      "metadata": {
        "id": "W5lI2VdLsizz"
      }
    },
    {
      "cell_type": "markdown",
      "source": [
        "---\n",
        "Finding the last digit of a number:\n"
      ],
      "metadata": {
        "id": "1TBkE_BhsxwH"
      }
    },
    {
      "cell_type": "code",
      "source": [
        "num = int(input(\"Enter number: \"))\n",
        "\n",
        "res = num%10 #modulo operator gives us the remainder\n",
        "\n",
        "print(\"Last digit is:\", res)"
      ],
      "metadata": {
        "colab": {
          "base_uri": "https://localhost:8080/"
        },
        "id": "EW0p_sWtsxJd",
        "outputId": "be72bde8-4a45-4800-cf11-91b6e88a58b6"
      },
      "execution_count": 3,
      "outputs": [
        {
          "output_type": "stream",
          "name": "stdout",
          "text": [
            "Enter number: 1234\n",
            "Last digit is: 4\n"
          ]
        }
      ]
    },
    {
      "cell_type": "markdown",
      "source": [
        "\n",
        "\n",
        "---\n",
        "Finding the sum of digits of a 2 digit number:"
      ],
      "metadata": {
        "id": "rsTjbuMEtI9z"
      }
    },
    {
      "cell_type": "code",
      "source": [
        "num = int(input(\"Enter number: \"))\n",
        "\n",
        "a = num%10\n",
        "b = num//10 #floor division gives us the quotient\n",
        "\n",
        "res = a+b\n",
        "\n",
        "print(\"Sum of digits of a 2 digit number is:\", res)"
      ],
      "metadata": {
        "colab": {
          "base_uri": "https://localhost:8080/"
        },
        "id": "RH_HxDx_tIdC",
        "outputId": "8f32009e-c1e1-41fa-988f-0469c5134447"
      },
      "execution_count": 4,
      "outputs": [
        {
          "output_type": "stream",
          "name": "stdout",
          "text": [
            "Enter number: 38\n",
            "Sum of digits of a 2 digit number is: 11\n"
          ]
        }
      ]
    },
    {
      "cell_type": "markdown",
      "source": [
        "---\n",
        "Finding the sum of digits of a 3 digit number (without using functions, loops, etc., only hard coding) :"
      ],
      "metadata": {
        "id": "NCIwRakvto46"
      }
    },
    {
      "cell_type": "code",
      "source": [
        "num = int(input(\"Enter number: \"))\n",
        "\n",
        "n1 = num%10\n",
        "num = num//10\n",
        "n2 = num%10\n",
        "num = num//10\n",
        "n3 = num%10\n",
        "\n",
        "res = n1+n2+n3\n",
        "\n",
        "print(\"Sum of digits of a 3 digit number is:\", res)"
      ],
      "metadata": {
        "colab": {
          "base_uri": "https://localhost:8080/"
        },
        "id": "YajN9Gd6toK8",
        "outputId": "3a1450ab-c5db-4ff2-dcdd-8e7fe9c4fa08"
      },
      "execution_count": 6,
      "outputs": [
        {
          "output_type": "stream",
          "name": "stdout",
          "text": [
            "Enter number: 123\n",
            "Sum of digits of a 3 digit number is: 6\n"
          ]
        }
      ]
    },
    {
      "cell_type": "markdown",
      "source": [
        "---\n",
        "Homework:\n",
        "\n",
        "Finding the sum of digits of a 6 digit number (without using functions, loops, etc., only hard coding) :"
      ],
      "metadata": {
        "id": "yItYKlantsHf"
      }
    },
    {
      "cell_type": "code",
      "execution_count": 7,
      "metadata": {
        "colab": {
          "base_uri": "https://localhost:8080/"
        },
        "id": "ObUWavkksUGz",
        "outputId": "117cb410-a227-4675-c187-e14245729d29"
      },
      "outputs": [
        {
          "output_type": "stream",
          "name": "stdout",
          "text": [
            "Enter number: 123432\n",
            "Sum of digits of a 6 digit number is: 15\n"
          ]
        }
      ],
      "source": [
        "num = int(input(\"Enter number: \"))\n",
        "\n",
        "digit1 = num % 10\n",
        "num = num // 10\n",
        "digit2 = num % 10\n",
        "num = num // 10\n",
        "digit3 = num % 10\n",
        "num = num // 10\n",
        "digit4 = num % 10\n",
        "num = num // 10\n",
        "digit5 = num % 10\n",
        "num = num // 10\n",
        "digit6 = num % 10\n",
        "\n",
        "res = digit1 + digit2 + digit3 + digit4 + digit5 + digit6\n",
        "\n",
        "print(\"Sum of digits of a 6 digit number is:\", res)"
      ]
    }
  ]
}