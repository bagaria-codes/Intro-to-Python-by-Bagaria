{
  "nbformat": 4,
  "nbformat_minor": 0,
  "metadata": {
    "colab": {
      "provenance": [],
      "authorship_tag": "ABX9TyOP6C2mJeIkbjgHt0+gz/pR",
      "include_colab_link": true
    },
    "kernelspec": {
      "name": "python3",
      "display_name": "Python 3"
    },
    "language_info": {
      "name": "python"
    }
  },
  "cells": [
    {
      "cell_type": "markdown",
      "metadata": {
        "id": "view-in-github",
        "colab_type": "text"
      },
      "source": [
        "<a href=\"https://colab.research.google.com/github/bagaria-codes/Intro-to-Python-by-Bagaria/blob/main/Python%20Basic%2025-01-25.ipynb\" target=\"_parent\"><img src=\"https://colab.research.google.com/assets/colab-badge.svg\" alt=\"Open In Colab\"/></a>"
      ]
    },
    {
      "cell_type": "markdown",
      "source": [
        "Khushi Bagaria | E067 | BTech CSBS\n",
        "\n",
        "# Python Basics 2 - 25/01/2025"
      ],
      "metadata": {
        "id": "uqHjqECKZ6Y3"
      }
    },
    {
      "cell_type": "markdown",
      "source": [
        "\n",
        "\n",
        "---\n",
        "\n",
        "\n",
        "Reverse of 3 digit number without using shortcut/loop\n",
        "\n",
        "\n",
        "\n"
      ],
      "metadata": {
        "id": "KVLgiwAWZGA0"
      }
    },
    {
      "cell_type": "code",
      "execution_count": 2,
      "metadata": {
        "colab": {
          "base_uri": "https://localhost:8080/"
        },
        "id": "4fOETVSaY9ID",
        "outputId": "7fc7475e-c020-4558-a988-a4d155790fe4"
      },
      "outputs": [
        {
          "output_type": "stream",
          "name": "stdout",
          "text": [
            "Enter number: 123\n",
            "Reverse of a 3 digit number is: 321\n"
          ]
        }
      ],
      "source": [
        "num = int(input(\"Enter number: \"))\n",
        "\n",
        "n1 = num%10\n",
        "num = num//10\n",
        "n2 = num%10\n",
        "num = num//10\n",
        "n3 = num%10\n",
        "\n",
        "rev = n1*100 +  n2*10 + n3*1\n",
        "\n",
        "print(\"Reverse of a 3 digit number is:\", rev)"
      ]
    },
    {
      "cell_type": "markdown",
      "source": [
        "---\n",
        "Find the sum of first and last digit of a 9 digit number in 3 steps"
      ],
      "metadata": {
        "id": "x_ol2idvbNaT"
      }
    },
    {
      "cell_type": "code",
      "source": [
        "num = int(input(\"Enter number: \"))\n",
        "\n",
        "n1 = num%10\n",
        "n2 = (num//100000000)%10\n",
        "res = n1 + n2\n",
        "\n",
        "print(\"Sum of first and last digit is:\", res)"
      ],
      "metadata": {
        "colab": {
          "base_uri": "https://localhost:8080/"
        },
        "id": "qbzw7e_3ba2v",
        "outputId": "90c64ad4-48e4-4c9c-f34c-4405e5d63ae3"
      },
      "execution_count": 5,
      "outputs": [
        {
          "output_type": "stream",
          "name": "stdout",
          "text": [
            "Enter number: 123456789\n",
            "Sum of first and last digit is: 10\n"
          ]
        }
      ]
    },
    {
      "cell_type": "markdown",
      "source": [
        "---\n",
        "Addition of 2 numbers without using variables"
      ],
      "metadata": {
        "id": "qj3ka4QAczJi"
      }
    },
    {
      "cell_type": "code",
      "source": [
        "print(\"Sum is:\",(int(input(\"First no.: \"))+int(input(\"Second no.: \"))))"
      ],
      "metadata": {
        "colab": {
          "base_uri": "https://localhost:8080/"
        },
        "id": "qqRchC49dhO4",
        "outputId": "802c9fab-ea52-4765-b62e-92f778845877"
      },
      "execution_count": 7,
      "outputs": [
        {
          "output_type": "stream",
          "name": "stdout",
          "text": [
            "First no.: 12\n",
            "Second no.: 32\n",
            "Sum is: 44\n"
          ]
        }
      ]
    },
    {
      "cell_type": "markdown",
      "source": [
        "---\n",
        "eval() function"
      ],
      "metadata": {
        "id": "nPvuNmO-eDnS"
      }
    },
    {
      "cell_type": "code",
      "source": [
        "a = eval(input(\"Enter equation: \"))\n",
        "print(a)"
      ],
      "metadata": {
        "colab": {
          "base_uri": "https://localhost:8080/"
        },
        "id": "duBGU4E7eIdW",
        "outputId": "f685a5e8-7093-4384-cd9f-9343d4b1677c"
      },
      "execution_count": 8,
      "outputs": [
        {
          "output_type": "stream",
          "name": "stdout",
          "text": [
            "Enter equation: 1+5267*56\n",
            "294953\n"
          ]
        }
      ]
    },
    {
      "cell_type": "markdown",
      "source": [
        "Note: [ ] list,\n",
        "( ) tuple,\n",
        "{ } set,\n",
        "{key, value} dictionary\n",
        "\n",
        "using this we can accept diffierent data types"
      ],
      "metadata": {
        "id": "ltZV_d7UejSe"
      }
    },
    {
      "cell_type": "code",
      "source": [
        "a = eval(input(\"Enter data: \"))\n",
        "print(a)\n",
        "print(type(a))"
      ],
      "metadata": {
        "colab": {
          "base_uri": "https://localhost:8080/"
        },
        "id": "k4oETsajetd0",
        "outputId": "755d724f-7c7f-4f9a-a09c-6e92d651bef7"
      },
      "execution_count": 9,
      "outputs": [
        {
          "output_type": "stream",
          "name": "stdout",
          "text": [
            "Enter data: [12, 1527, 352]\n",
            "[12, 1527, 352]\n",
            "<class 'list'>\n"
          ]
        }
      ]
    },
    {
      "cell_type": "markdown",
      "source": [
        "---\n",
        "Output statement"
      ],
      "metadata": {
        "id": "nTGqlc8SfFxA"
      }
    },
    {
      "cell_type": "markdown",
      "source": [
        "sep attribute"
      ],
      "metadata": {
        "id": "1-wZ9g0ZgTVd"
      }
    },
    {
      "cell_type": "code",
      "source": [
        "a, b, c = 10, 20, 30\n",
        "print(a, b, c)\n",
        "print(a, b, c, sep='')\n",
        "print(a, b, c, sep=' ')\n",
        "print(a, b, c, sep=',')\n",
        "print(a, b, c, sep=':')"
      ],
      "metadata": {
        "colab": {
          "base_uri": "https://localhost:8080/"
        },
        "id": "sweNls5ffJIR",
        "outputId": "4a92adac-32f7-4dfc-ae2d-1f4e907b2989"
      },
      "execution_count": 11,
      "outputs": [
        {
          "output_type": "stream",
          "name": "stdout",
          "text": [
            "10 20 30\n",
            "102030\n",
            "10 20 30\n",
            "10,20,30\n",
            "10:20:30\n"
          ]
        }
      ]
    },
    {
      "cell_type": "markdown",
      "source": [
        "end attribute"
      ],
      "metadata": {
        "id": "apXAgofagQ7m"
      }
    },
    {
      "cell_type": "code",
      "source": [
        "print(\"Khushi\")\n",
        "print(\"Bagaria\")\n",
        "print(\"Khushi\", end=' ')\n",
        "print(\"Bagaria\")\n",
        "print(\"Khushi\", end='')\n",
        "print(\"Bagaria\")"
      ],
      "metadata": {
        "colab": {
          "base_uri": "https://localhost:8080/"
        },
        "id": "Kq7TGZJ5gQJ5",
        "outputId": "dacdb74b-0110-4879-e54b-1206079079d8"
      },
      "execution_count": 15,
      "outputs": [
        {
          "output_type": "stream",
          "name": "stdout",
          "text": [
            "Khushi\n",
            "Bagaria\n",
            "Khushi Bagaria\n",
            "KhushiBagaria\n"
          ]
        }
      ]
    },
    {
      "cell_type": "markdown",
      "source": [
        "replacement operator"
      ],
      "metadata": {
        "id": "mKu0MzLFhuWP"
      }
    },
    {
      "cell_type": "code",
      "source": [
        "name = 'Khushi'\n",
        "salary = 1600000\n",
        "company = 'Google'\n",
        "print(\"Hello {0} your salary is {1} and Company is {2}\".format(name,salary,company))\n",
        "print(\"Hello {x} your salary is {y} and Company is {z}\".format(x = name, z = company, y = salary))"
      ],
      "metadata": {
        "colab": {
          "base_uri": "https://localhost:8080/"
        },
        "id": "ucXccXMGht_J",
        "outputId": "e1d44017-5a68-4d03-e39a-ea64f44bc885"
      },
      "execution_count": 17,
      "outputs": [
        {
          "output_type": "stream",
          "name": "stdout",
          "text": [
            "Hello Khushi your salary is 1600000 and Company is Google\n",
            "Hello Khushi your salary is 1600000 and Company is Google\n"
          ]
        }
      ]
    },
    {
      "cell_type": "markdown",
      "source": [
        "---\n",
        "Control Flow"
      ],
      "metadata": {
        "id": "jTpm8-RjkBPb"
      }
    },
    {
      "cell_type": "markdown",
      "source": [
        "Accept 5 numbers and find max number using if only"
      ],
      "metadata": {
        "id": "Y6mdCeQ5kEHo"
      }
    },
    {
      "cell_type": "code",
      "source": [
        "n1 = int(input(\"Enter numbers: \"))\n",
        "n2 = int(input())\n",
        "n3 = int(input())\n",
        "n4 = int(input())\n",
        "n5 = int(input())\n",
        "\n",
        "max = n1\n",
        "if n2>max: max=n2\n",
        "if n3>max: max=n3\n",
        "if n4>max: max=n4\n",
        "if n5>max: max=n5\n",
        "\n",
        "print(\"Max is:\",max)"
      ],
      "metadata": {
        "colab": {
          "base_uri": "https://localhost:8080/"
        },
        "id": "sLSprSDJkDQH",
        "outputId": "f07b3d32-9f26-4d5d-8b2b-715ff8b565e7"
      },
      "execution_count": 23,
      "outputs": [
        {
          "output_type": "stream",
          "name": "stdout",
          "text": [
            "Enter numbers: 1\n",
            "6\n",
            "9\n",
            "4\n",
            "5\n",
            "Max is: 9\n"
          ]
        }
      ]
    },
    {
      "cell_type": "markdown",
      "source": [
        "uppercase, lowercase, lowercase, digit, symbol"
      ],
      "metadata": {
        "id": "XtmM4TTOmUdq"
      }
    },
    {
      "cell_type": "code",
      "source": [
        "ch = input(\"Enter character: \")\n",
        "c = ord(ch)\n",
        "if c>=65 and c<=90:\n",
        "  print(\"Uppercase\")\n",
        "elif c>=97 and c<=122:\n",
        "  print(\"Lowercase\")\n",
        "elif c>=48 and c<=57:\n",
        "  print(\"Digit\")\n",
        "else:\n",
        "  print(\"Special Symbol\")"
      ],
      "metadata": {
        "colab": {
          "base_uri": "https://localhost:8080/"
        },
        "id": "X7tnubFClJ0W",
        "outputId": "f83bd9fb-3793-49ed-8fd2-53061097ca61"
      },
      "execution_count": 27,
      "outputs": [
        {
          "output_type": "stream",
          "name": "stdout",
          "text": [
            "Enter character: 0\n",
            "Digit\n"
          ]
        }
      ]
    },
    {
      "cell_type": "markdown",
      "source": [
        "---\n",
        "Loops\n",
        "\n",
        "note: before answering \"What is requirement of loop\" talk about why its is required (print name 1000 times)\n",
        "\n",
        "definition: if you want to execute a block of statements repeatedly till the condition is satisfied, use loops"
      ],
      "metadata": {
        "id": "gAsVe2GMnmYf"
      }
    },
    {
      "cell_type": "markdown",
      "source": [
        "**difference between for loop and while loop:** for loop is used when range is given, while loop is used when range is not given"
      ],
      "metadata": {
        "id": "IsDQmQ-poanQ"
      }
    },
    {
      "cell_type": "markdown",
      "source": [
        "Reverse of a number using while loop:"
      ],
      "metadata": {
        "id": "yE0A0HZao-mX"
      }
    },
    {
      "cell_type": "code",
      "source": [
        "n = int(input(\"Enter number: \"))\n",
        "rev = 0\n",
        "while n>0:\n",
        "  rem = n%10\n",
        "  rev = rev*10 + rem\n",
        "  n = n//10\n",
        "print(\"Reverse is:\", rev)"
      ],
      "metadata": {
        "colab": {
          "base_uri": "https://localhost:8080/"
        },
        "id": "B-5uE0H8nsE9",
        "outputId": "d0d5ed8a-497e-4354-8ae3-84eb84d802d0"
      },
      "execution_count": 29,
      "outputs": [
        {
          "output_type": "stream",
          "name": "stdout",
          "text": [
            "Enter number: 1209\n",
            "Reverse is: 9021\n"
          ]
        }
      ]
    },
    {
      "cell_type": "markdown",
      "source": [
        "Sum of digits using loop"
      ],
      "metadata": {
        "id": "wKzYhpS8q58d"
      }
    },
    {
      "cell_type": "code",
      "source": [
        "n = int(input(\"Enter number: \"))\n",
        "sum = 0\n",
        "while n>0:\n",
        "  rem = n%10\n",
        "  sum = sum + rem\n",
        "  n = n//10\n",
        "print(\"Sum is:\", sum)"
      ],
      "metadata": {
        "colab": {
          "base_uri": "https://localhost:8080/"
        },
        "id": "4Cs430icrBT3",
        "outputId": "122f99c3-3947-42d4-9fee-e195b3acaed7"
      },
      "execution_count": 31,
      "outputs": [
        {
          "output_type": "stream",
          "name": "stdout",
          "text": [
            "Enter number: 123\n",
            "Sum is: 6\n"
          ]
        }
      ]
    },
    {
      "cell_type": "markdown",
      "source": [
        "Count number of digits"
      ],
      "metadata": {
        "id": "_YvGCGebq8D9"
      }
    },
    {
      "cell_type": "code",
      "source": [
        "n = int(input(\"Enter number: \"))\n",
        "digit = 0\n",
        "while n>0:\n",
        "  rem = n%10\n",
        "  digit = digit + 1\n",
        "  n = n//10\n",
        "print(\"No. of digits is:\", digit)"
      ],
      "metadata": {
        "colab": {
          "base_uri": "https://localhost:8080/"
        },
        "id": "JyFWynpfrRaD",
        "outputId": "55fefb51-cc82-4f65-a8e6-ef2b239abd99"
      },
      "execution_count": 33,
      "outputs": [
        {
          "output_type": "stream",
          "name": "stdout",
          "text": [
            "Enter number: 12345\n",
            "No. of digits is: 5\n"
          ]
        }
      ]
    },
    {
      "cell_type": "markdown",
      "source": [
        "Armstrong Number"
      ],
      "metadata": {
        "id": "vwRqyJaNsQma"
      }
    },
    {
      "cell_type": "code",
      "source": [
        "n = int(input(\"Enter number: \"))\n",
        "num, final = n, n\n",
        "sum = 0\n",
        "\n",
        "digit = 0\n",
        "while n>0:\n",
        "  rem = n%10\n",
        "  digit = digit + 1\n",
        "  n = n//10\n",
        "\n",
        "while num>0:\n",
        "  rem = num%10\n",
        "  sum = sum + rem**digit\n",
        "  num = num//10\n",
        "\n",
        "if sum == final:\n",
        "  print(\"Armstrong Number\")\n",
        "else:\n",
        "  print(\"Not Armstrong Number\")"
      ],
      "metadata": {
        "colab": {
          "base_uri": "https://localhost:8080/"
        },
        "id": "VTbesjkSsbLm",
        "outputId": "361b3cb7-3040-4c93-db5d-fa79e09b48e1"
      },
      "execution_count": 37,
      "outputs": [
        {
          "output_type": "stream",
          "name": "stdout",
          "text": [
            "Enter number: 1634\n",
            "Armstrong Number\n"
          ]
        }
      ]
    },
    {
      "cell_type": "markdown",
      "source": [
        "Peterson Number"
      ],
      "metadata": {
        "id": "r0Y_XPHnt6m2"
      }
    },
    {
      "cell_type": "code",
      "source": [
        "n = int(input(\"Enter number: \"))\n",
        "num = n\n",
        "sum = 0\n",
        "\n",
        "while num>0:\n",
        "  rem = num%10\n",
        "  fact = 1\n",
        "  for i in range(1,rem+1): # +1 as the number itself is also included in factorial\n",
        "    fact = fact*i\n",
        "  num = num//10\n",
        "  sum = sum + fact\n",
        "\n",
        "if sum==n:\n",
        "  print(\"Peterson Number\")\n",
        "else:\n",
        "  print(\"Not Peterson Number\")"
      ],
      "metadata": {
        "colab": {
          "base_uri": "https://localhost:8080/"
        },
        "id": "KiAILqyduCSF",
        "outputId": "84cc17d6-1f0f-4a03-ebbc-9857ea282814"
      },
      "execution_count": 39,
      "outputs": [
        {
          "output_type": "stream",
          "name": "stdout",
          "text": [
            "Enter number: 145\n",
            "Peterson Number\n"
          ]
        }
      ]
    },
    {
      "cell_type": "markdown",
      "source": [
        "Tech Number"
      ],
      "metadata": {
        "id": "od2Dd4SxwKXZ"
      }
    },
    {
      "cell_type": "code",
      "source": [
        "n = int(input(\"Enter number: \"))\n",
        "num, final = n, n\n",
        "sum = 0\n",
        "\n",
        "digit = 0\n",
        "while n>0:\n",
        "  rem = n%10\n",
        "  digit = digit + 1\n",
        "  n = n//10\n",
        "\n",
        "n1 = num%10**digit//2\n",
        "n2 = num//10**digit//2\n",
        "sum = n1 + n2\n",
        "prod = sum**2\n",
        "\n",
        "if prod==final:\n",
        "  print(\"Tech Number\")\n",
        "else:\n",
        "  print(\"Not Tech Number\")"
      ],
      "metadata": {
        "colab": {
          "base_uri": "https://localhost:8080/"
        },
        "id": "PSRLmAjawMtj",
        "outputId": "5020c2dd-39fd-41d7-e796-21c1768359fa"
      },
      "execution_count": 49,
      "outputs": [
        {
          "output_type": "stream",
          "name": "stdout",
          "text": [
            "Enter number: 2025\n",
            "Tech Number\n"
          ]
        }
      ]
    },
    {
      "cell_type": "markdown",
      "source": [
        "Homework:\n",
        "\n",
        "Write a Python program that takes an amount in Indian Rupees (Rs) as input from the user and then calculates and prints the minimum number of notes and coins of different denominations (Rs 500, Rs 200, Rs 100, Rs 50, Rs 20, Rs 10, Rs 5, Rs 2, Rs 1) required to represent that amount."
      ],
      "metadata": {
        "id": "B-8tD9xlxofj"
      }
    },
    {
      "cell_type": "code",
      "source": [
        "n = int(input(\"Enter Amount (in Rs): \"))\n",
        "\n",
        "if n>500:\n",
        "  n_500 = n//500\n",
        "  n = n%500\n",
        "  print(\"Number of Rs 500 notes:\", n_500)\n",
        "if n>200:\n",
        "  n_200 = n//200\n",
        "  n = n%200\n",
        "  print(\"Number of Rs 200 notes:\", n_200)\n",
        "if n>100:\n",
        "  n_100 = n//100\n",
        "  n = n%100\n",
        "  print(\"Number of Rs 100 notes:\", n_100)\n",
        "if n>50:\n",
        "  n_50 = n//50\n",
        "  n = n%50\n",
        "  print(\"Number of Rs 50 notes:\", n_50)\n",
        "if n>20:\n",
        "  n_20 = n//20\n",
        "  n = n%20\n",
        "  print(\"Number of Rs 20 notes:\", n_20)\n",
        "if n>10:\n",
        "  n_10 = n//10\n",
        "  n = n%10\n",
        "  print(\"Number of Rs 10 notes:\", n_10)\n",
        "if n>5:\n",
        "  n_5 = n//5\n",
        "  n = n%5\n",
        "  print(\"Number of Rs 5 coins:\", n_5)\n",
        "if n>2:\n",
        "  n_2 = n//2\n",
        "  n = n%2\n",
        "  print(\"Number of Rs 2 coins:\", n_2)\n",
        "if n>1:\n",
        "  n_1 = n//1\n",
        "  n = n%1\n",
        "  print(\"Number of Rs 1 coins:\", n_1)"
      ],
      "metadata": {
        "colab": {
          "base_uri": "https://localhost:8080/"
        },
        "id": "1HVNgFxehFvx",
        "outputId": "14357984-0387-4153-cbcb-9734126ceec5"
      },
      "execution_count": 7,
      "outputs": [
        {
          "output_type": "stream",
          "name": "stdout",
          "text": [
            "Enter Amount (in Rs): 1234\n",
            "Number of Rs 500 notes: 2\n",
            "Number of Rs 200 notes: 1\n",
            "Number of Rs 20 notes: 1\n",
            "Number of Rs 10 notes: 1\n",
            "Number of Rs 2 coins: 2\n"
          ]
        }
      ]
    }
  ]
}